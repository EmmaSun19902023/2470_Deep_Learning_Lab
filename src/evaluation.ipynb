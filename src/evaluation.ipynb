{
 "cells": [
  {
   "cell_type": "markdown",
   "metadata": {},
   "source": [
    "## Import Packages"
   ]
  },
  {
   "cell_type": "code",
   "execution_count": 124,
   "metadata": {},
   "outputs": [
    {
     "name": "stderr",
     "output_type": "stream",
     "text": [
      "[nltk_data] Downloading package punkt to /Users/emmasun/nltk_data...\n",
      "[nltk_data]   Package punkt is already up-to-date!\n",
      "[nltk_data] Downloading package stopwords to\n",
      "[nltk_data]     /Users/emmasun/nltk_data...\n",
      "[nltk_data]   Package stopwords is already up-to-date!\n",
      "[nltk_data] Downloading package wordnet to /Users/emmasun/nltk_data...\n",
      "[nltk_data]   Package wordnet is already up-to-date!\n"
     ]
    },
    {
     "data": {
      "text/plain": [
       "True"
      ]
     },
     "execution_count": 124,
     "metadata": {},
     "output_type": "execute_result"
    }
   ],
   "source": [
    "import pandas as pd\n",
    "import numpy as np\n",
    "from sklearn.feature_extraction.text import TfidfVectorizer\n",
    "# from gensim.models import Word2Vec\n",
    "import nltk\n",
    "from nltk.corpus import stopwords\n",
    "from nltk.stem import WordNetLemmatizer\n",
    "from nltk.tokenize import word_tokenize\n",
    "import re\n",
    "\n",
    "# Download required NLTK data\n",
    "nltk.download('punkt')  # Needed for tokenizing words.\n",
    "nltk.download('stopwords')  # Needed for stop words that are used in the preprocessing.\n",
    "nltk.download('wordnet')  # Needed for lemmatization."
   ]
  },
  {
   "cell_type": "markdown",
   "metadata": {},
   "source": [
    "## Add 4 Classifier Labels"
   ]
  },
  {
   "cell_type": "code",
   "execution_count": 125,
   "metadata": {},
   "outputs": [],
   "source": [
    "file_path = '/Users/emmasun/Desktop/2470 final project/data/mbti_1.csv'\n",
    "df = pd.read_csv(file_path)"
   ]
  },
  {
   "cell_type": "code",
   "execution_count": 126,
   "metadata": {},
   "outputs": [
    {
     "data": {
      "text/html": [
       "<div>\n",
       "<style scoped>\n",
       "    .dataframe tbody tr th:only-of-type {\n",
       "        vertical-align: middle;\n",
       "    }\n",
       "\n",
       "    .dataframe tbody tr th {\n",
       "        vertical-align: top;\n",
       "    }\n",
       "\n",
       "    .dataframe thead th {\n",
       "        text-align: right;\n",
       "    }\n",
       "</style>\n",
       "<table border=\"1\" class=\"dataframe\">\n",
       "  <thead>\n",
       "    <tr style=\"text-align: right;\">\n",
       "      <th></th>\n",
       "      <th>type</th>\n",
       "      <th>posts</th>\n",
       "    </tr>\n",
       "  </thead>\n",
       "  <tbody>\n",
       "    <tr>\n",
       "      <th>0</th>\n",
       "      <td>INFJ</td>\n",
       "      <td>'http://www.youtube.com/watch?v=qsXHcwe3krw|||...</td>\n",
       "    </tr>\n",
       "    <tr>\n",
       "      <th>1</th>\n",
       "      <td>ENTP</td>\n",
       "      <td>'I'm finding the lack of me in these posts ver...</td>\n",
       "    </tr>\n",
       "    <tr>\n",
       "      <th>2</th>\n",
       "      <td>INTP</td>\n",
       "      <td>'Good one  _____   https://www.youtube.com/wat...</td>\n",
       "    </tr>\n",
       "    <tr>\n",
       "      <th>3</th>\n",
       "      <td>INTJ</td>\n",
       "      <td>'Dear INTP,   I enjoyed our conversation the o...</td>\n",
       "    </tr>\n",
       "    <tr>\n",
       "      <th>4</th>\n",
       "      <td>ENTJ</td>\n",
       "      <td>'You're fired.|||That's another silly misconce...</td>\n",
       "    </tr>\n",
       "    <tr>\n",
       "      <th>...</th>\n",
       "      <td>...</td>\n",
       "      <td>...</td>\n",
       "    </tr>\n",
       "    <tr>\n",
       "      <th>8670</th>\n",
       "      <td>ISFP</td>\n",
       "      <td>'https://www.youtube.com/watch?v=t8edHB_h908||...</td>\n",
       "    </tr>\n",
       "    <tr>\n",
       "      <th>8671</th>\n",
       "      <td>ENFP</td>\n",
       "      <td>'So...if this thread already exists someplace ...</td>\n",
       "    </tr>\n",
       "    <tr>\n",
       "      <th>8672</th>\n",
       "      <td>INTP</td>\n",
       "      <td>'So many questions when i do these things.  I ...</td>\n",
       "    </tr>\n",
       "    <tr>\n",
       "      <th>8673</th>\n",
       "      <td>INFP</td>\n",
       "      <td>'I am very conflicted right now when it comes ...</td>\n",
       "    </tr>\n",
       "    <tr>\n",
       "      <th>8674</th>\n",
       "      <td>INFP</td>\n",
       "      <td>'It has been too long since I have been on per...</td>\n",
       "    </tr>\n",
       "  </tbody>\n",
       "</table>\n",
       "<p>8675 rows × 2 columns</p>\n",
       "</div>"
      ],
      "text/plain": [
       "      type                                              posts\n",
       "0     INFJ  'http://www.youtube.com/watch?v=qsXHcwe3krw|||...\n",
       "1     ENTP  'I'm finding the lack of me in these posts ver...\n",
       "2     INTP  'Good one  _____   https://www.youtube.com/wat...\n",
       "3     INTJ  'Dear INTP,   I enjoyed our conversation the o...\n",
       "4     ENTJ  'You're fired.|||That's another silly misconce...\n",
       "...    ...                                                ...\n",
       "8670  ISFP  'https://www.youtube.com/watch?v=t8edHB_h908||...\n",
       "8671  ENFP  'So...if this thread already exists someplace ...\n",
       "8672  INTP  'So many questions when i do these things.  I ...\n",
       "8673  INFP  'I am very conflicted right now when it comes ...\n",
       "8674  INFP  'It has been too long since I have been on per...\n",
       "\n",
       "[8675 rows x 2 columns]"
      ]
     },
     "execution_count": 126,
     "metadata": {},
     "output_type": "execute_result"
    }
   ],
   "source": [
    "df"
   ]
  },
  {
   "cell_type": "code",
   "execution_count": 127,
   "metadata": {},
   "outputs": [
    {
     "data": {
      "text/plain": [
       "count    8675.000000\n",
       "mean     1262.678963\n",
       "std       317.261077\n",
       "min         4.000000\n",
       "25%      1081.000000\n",
       "50%      1314.000000\n",
       "75%      1497.000000\n",
       "max      2212.000000\n",
       "Name: length, dtype: float64"
      ]
     },
     "execution_count": 127,
     "metadata": {},
     "output_type": "execute_result"
    }
   ],
   "source": [
    "df['length'] = df['posts'].apply(lambda x: len(x.split(' ')))\n",
    "df['length'].describe()"
   ]
  },
  {
   "cell_type": "code",
   "execution_count": 128,
   "metadata": {},
   "outputs": [
    {
     "data": {
      "text/html": [
       "<div>\n",
       "<style scoped>\n",
       "    .dataframe tbody tr th:only-of-type {\n",
       "        vertical-align: middle;\n",
       "    }\n",
       "\n",
       "    .dataframe tbody tr th {\n",
       "        vertical-align: top;\n",
       "    }\n",
       "\n",
       "    .dataframe thead th {\n",
       "        text-align: right;\n",
       "    }\n",
       "</style>\n",
       "<table border=\"1\" class=\"dataframe\">\n",
       "  <thead>\n",
       "    <tr style=\"text-align: right;\">\n",
       "      <th></th>\n",
       "      <th>type</th>\n",
       "      <th>posts</th>\n",
       "      <th>length</th>\n",
       "      <th>I/E</th>\n",
       "      <th>N/S</th>\n",
       "      <th>F/T</th>\n",
       "      <th>P/J</th>\n",
       "    </tr>\n",
       "  </thead>\n",
       "  <tbody>\n",
       "    <tr>\n",
       "      <th>0</th>\n",
       "      <td>INFJ</td>\n",
       "      <td>'http://www.youtube.com/watch?v=qsXHcwe3krw|||...</td>\n",
       "      <td>578</td>\n",
       "      <td>0</td>\n",
       "      <td>0</td>\n",
       "      <td>0</td>\n",
       "      <td>1</td>\n",
       "    </tr>\n",
       "    <tr>\n",
       "      <th>1</th>\n",
       "      <td>ENTP</td>\n",
       "      <td>'I'm finding the lack of me in these posts ver...</td>\n",
       "      <td>1194</td>\n",
       "      <td>1</td>\n",
       "      <td>0</td>\n",
       "      <td>1</td>\n",
       "      <td>0</td>\n",
       "    </tr>\n",
       "    <tr>\n",
       "      <th>2</th>\n",
       "      <td>INTP</td>\n",
       "      <td>'Good one  _____   https://www.youtube.com/wat...</td>\n",
       "      <td>869</td>\n",
       "      <td>0</td>\n",
       "      <td>0</td>\n",
       "      <td>1</td>\n",
       "      <td>0</td>\n",
       "    </tr>\n",
       "    <tr>\n",
       "      <th>3</th>\n",
       "      <td>INTJ</td>\n",
       "      <td>'Dear INTP,   I enjoyed our conversation the o...</td>\n",
       "      <td>1101</td>\n",
       "      <td>0</td>\n",
       "      <td>0</td>\n",
       "      <td>1</td>\n",
       "      <td>1</td>\n",
       "    </tr>\n",
       "    <tr>\n",
       "      <th>4</th>\n",
       "      <td>ENTJ</td>\n",
       "      <td>'You're fired.|||That's another silly misconce...</td>\n",
       "      <td>987</td>\n",
       "      <td>1</td>\n",
       "      <td>0</td>\n",
       "      <td>1</td>\n",
       "      <td>1</td>\n",
       "    </tr>\n",
       "    <tr>\n",
       "      <th>...</th>\n",
       "      <td>...</td>\n",
       "      <td>...</td>\n",
       "      <td>...</td>\n",
       "      <td>...</td>\n",
       "      <td>...</td>\n",
       "      <td>...</td>\n",
       "      <td>...</td>\n",
       "    </tr>\n",
       "    <tr>\n",
       "      <th>8670</th>\n",
       "      <td>ISFP</td>\n",
       "      <td>'https://www.youtube.com/watch?v=t8edHB_h908||...</td>\n",
       "      <td>816</td>\n",
       "      <td>0</td>\n",
       "      <td>1</td>\n",
       "      <td>0</td>\n",
       "      <td>0</td>\n",
       "    </tr>\n",
       "    <tr>\n",
       "      <th>8671</th>\n",
       "      <td>ENFP</td>\n",
       "      <td>'So...if this thread already exists someplace ...</td>\n",
       "      <td>1394</td>\n",
       "      <td>1</td>\n",
       "      <td>0</td>\n",
       "      <td>0</td>\n",
       "      <td>0</td>\n",
       "    </tr>\n",
       "    <tr>\n",
       "      <th>8672</th>\n",
       "      <td>INTP</td>\n",
       "      <td>'So many questions when i do these things.  I ...</td>\n",
       "      <td>1002</td>\n",
       "      <td>0</td>\n",
       "      <td>0</td>\n",
       "      <td>1</td>\n",
       "      <td>0</td>\n",
       "    </tr>\n",
       "    <tr>\n",
       "      <th>8673</th>\n",
       "      <td>INFP</td>\n",
       "      <td>'I am very conflicted right now when it comes ...</td>\n",
       "      <td>1781</td>\n",
       "      <td>0</td>\n",
       "      <td>0</td>\n",
       "      <td>0</td>\n",
       "      <td>0</td>\n",
       "    </tr>\n",
       "    <tr>\n",
       "      <th>8674</th>\n",
       "      <td>INFP</td>\n",
       "      <td>'It has been too long since I have been on per...</td>\n",
       "      <td>1380</td>\n",
       "      <td>0</td>\n",
       "      <td>0</td>\n",
       "      <td>0</td>\n",
       "      <td>0</td>\n",
       "    </tr>\n",
       "  </tbody>\n",
       "</table>\n",
       "<p>8675 rows × 7 columns</p>\n",
       "</div>"
      ],
      "text/plain": [
       "      type                                              posts  length  I/E  \\\n",
       "0     INFJ  'http://www.youtube.com/watch?v=qsXHcwe3krw|||...     578    0   \n",
       "1     ENTP  'I'm finding the lack of me in these posts ver...    1194    1   \n",
       "2     INTP  'Good one  _____   https://www.youtube.com/wat...     869    0   \n",
       "3     INTJ  'Dear INTP,   I enjoyed our conversation the o...    1101    0   \n",
       "4     ENTJ  'You're fired.|||That's another silly misconce...     987    1   \n",
       "...    ...                                                ...     ...  ...   \n",
       "8670  ISFP  'https://www.youtube.com/watch?v=t8edHB_h908||...     816    0   \n",
       "8671  ENFP  'So...if this thread already exists someplace ...    1394    1   \n",
       "8672  INTP  'So many questions when i do these things.  I ...    1002    0   \n",
       "8673  INFP  'I am very conflicted right now when it comes ...    1781    0   \n",
       "8674  INFP  'It has been too long since I have been on per...    1380    0   \n",
       "\n",
       "      N/S  F/T  P/J  \n",
       "0       0    0    1  \n",
       "1       0    1    0  \n",
       "2       0    1    0  \n",
       "3       0    1    1  \n",
       "4       0    1    1  \n",
       "...   ...  ...  ...  \n",
       "8670    1    0    0  \n",
       "8671    0    0    0  \n",
       "8672    0    1    0  \n",
       "8673    0    0    0  \n",
       "8674    0    0    0  \n",
       "\n",
       "[8675 rows x 7 columns]"
      ]
     },
     "execution_count": 128,
     "metadata": {},
     "output_type": "execute_result"
    }
   ],
   "source": [
    "\"\"\"\n",
    "Here we create 4 new columns each containing information about one of the key dichotomies of MBTI\n",
    "\"\"\"\n",
    "\n",
    "def label_mbti_ie(row):\n",
    "    if \"I\" in row['type']:\n",
    "        return 0\n",
    "    else:\n",
    "        return 1\n",
    "    \n",
    "def label_mbti_ns(row):\n",
    "    if \"N\" in row['type']:\n",
    "        return 0\n",
    "    else:\n",
    "        return 1\n",
    "\n",
    "def label_mbti_ft(row):\n",
    "    if \"F\" in row['type']:\n",
    "        return 0\n",
    "    else:\n",
    "        return 1\n",
    "\n",
    "def label_mbti_pj(row):\n",
    "    if \"P\" in row['type']:\n",
    "        return 0\n",
    "    else:\n",
    "        return 1\n",
    "\n",
    "df['I/E'] = df.apply(label_mbti_ie, axis=1)\n",
    "df['N/S'] = df.apply(label_mbti_ns, axis=1)\n",
    "df['F/T'] = df.apply(label_mbti_ft, axis=1)\n",
    "df['P/J'] = df.apply(label_mbti_pj, axis=1)\n",
    "\n",
    "# df['I-E'] = df['Type'].apply(lambda x: 1 if 'E' in x['type'] else 0)\n",
    "# df['N-S'] = df['Type'].apply(lambda x: 1 if 'S' in x['type'] else 0)\n",
    "# df['F-T'] = df['Type'].apply(lambda x: 1 if 'T' in x['type'] else 0)\n",
    "# df['P-J'] = df['Type'].apply(lambda x: 1 if 'J' in x['type'] else 0)\n",
    "\n",
    "df"
   ]
  },
  {
   "cell_type": "code",
   "execution_count": 129,
   "metadata": {},
   "outputs": [],
   "source": [
    "# Text preprocessing function\n",
    "def preprocess(text):\n",
    "    text = re.sub(r'http\\S+', '', text)  # Removes URLs that start with http\n",
    "    text = re.sub(r'www\\S+', '', text)   # Removes URLs that start with www\n",
    "\n",
    "    text = text.lower()  # Lowercase\n",
    "    tokens = word_tokenize(text)  # Tokenize\n",
    "    lemmatizer = WordNetLemmatizer()\n",
    "    tokens = [lemmatizer.lemmatize(token) for token in tokens if token.isalpha() and token not in stopwords.words('english')]\n",
    "    return tokens\n",
    "\n",
    "# Apply preprocessing\n",
    "df['processed_posts'] = df['posts'].apply(preprocess)"
   ]
  },
  {
   "cell_type": "code",
   "execution_count": 130,
   "metadata": {},
   "outputs": [],
   "source": [
    "from sklearn.model_selection import train_test_split\n",
    "\n",
    "X = df['processed_posts']\n",
    "y = df[['I/E', 'N/S', 'F/T', 'P/J']]\n",
    "X_train, X_test, y_train, y_test = train_test_split(X, y, test_size=0.2, random_state=42)\n",
    "# _, _, y2_train, y2_test = train_test_split(X, y2, test_size=0.2, random_state=42)\n",
    "# _, _, y3_train, y3_test = train_test_split(X, y3, test_size=0.2, random_state=42)\n",
    "# _, _, y4_train, y4_test = train_test_split(X, y4, test_size=0.2, random_state=42) -->"
   ]
  },
  {
   "cell_type": "code",
   "execution_count": 131,
   "metadata": {},
   "outputs": [
    {
     "data": {
      "text/plain": [
       "((6940,), (1735,), (6940, 4), (1735, 4))"
      ]
     },
     "execution_count": 131,
     "metadata": {},
     "output_type": "execute_result"
    }
   ],
   "source": [
    "X_train.shape, X_test.shape, y_train.shape, y_test.shape"
   ]
  },
  {
   "cell_type": "markdown",
   "metadata": {},
   "source": [
    "## Create TF-IDF data and Save"
   ]
  },
  {
   "cell_type": "code",
   "execution_count": 132,
   "metadata": {},
   "outputs": [
    {
     "name": "stderr",
     "output_type": "stream",
     "text": [
      "/Users/emmasun/anaconda3/lib/python3.11/site-packages/sklearn/feature_extraction/text.py:525: UserWarning: The parameter 'token_pattern' will not be used since 'tokenizer' is not None'\n",
      "  warnings.warn(\n"
     ]
    },
    {
     "name": "stdout",
     "output_type": "stream",
     "text": [
      "TF-IDF Train Matrix Shape: (6940, 71597)\n",
      "TF-IDF Feature Names: ['aa' 'aaa' 'aaaa' ... 'ﾉｼ' 'ﾟ' 'ﾟдﾟщ']\n",
      "TF-IDF Test Matrix Shape: (1735, 71597)\n",
      "TF-IDF Feature Names: ['aa' 'aaa' 'aaaa' ... 'ﾉｼ' 'ﾟ' 'ﾟдﾟщ']\n"
     ]
    }
   ],
   "source": [
    "\n",
    "# TF-IDF\n",
    "tfidf_vectorizer = TfidfVectorizer(tokenizer=lambda x: x, lowercase=False)\n",
    "tfidf_matrix_train = tfidf_vectorizer.fit_transform(X_train).toarray()\n",
    "tfidf_feature_names = tfidf_vectorizer.get_feature_names_out()\n",
    "\n",
    "# Show TF-IDF result\n",
    "print(\"TF-IDF Train Matrix Shape:\", tfidf_matrix_train.shape)\n",
    "print(\"TF-IDF Feature Names:\", tfidf_feature_names)\n",
    "\n",
    "# TF-IDF\n",
    "# tfidf_vectorizer = TfidfVectorizer(tokenizer=lambda x: x, lowercase=False)\n",
    "tfidf_matrix_test = tfidf_vectorizer.transform(X_test).toarray()\n",
    "# tfidf_feature_names = tfidf_vectorizer.get_feature_names_out()\n",
    "\n",
    "# Show TF-IDF result\n",
    "print(\"TF-IDF Test Matrix Shape:\", tfidf_matrix_test.shape)\n",
    "print(\"TF-IDF Feature Names:\", tfidf_feature_names)"
   ]
  },
  {
   "cell_type": "code",
   "execution_count": 133,
   "metadata": {},
   "outputs": [
    {
     "data": {
      "text/plain": [
       "(6940,)"
      ]
     },
     "execution_count": 133,
     "metadata": {},
     "output_type": "execute_result"
    }
   ],
   "source": [
    "y_train['I/E'].shape"
   ]
  },
  {
   "cell_type": "code",
   "execution_count": 134,
   "metadata": {},
   "outputs": [],
   "source": [
    "# from sklearn.model_selection import train_test_split\n",
    "\n",
    "X_train = tfidf_matrix_train\n",
    "y1_train = y_train['I/E']\n",
    "y2_train = y_train['N/S']\n",
    "y3_train = y_train['F/T']\n",
    "y4_train = y_train['P/J']\n",
    "\n",
    "X_test = tfidf_matrix_test\n",
    "y1_test = y_test['I/E']\n",
    "y2_test = y_test['N/S']\n",
    "y3_test = y_test['F/T']\n",
    "y4_test = y_test['P/J']\n",
    "\n",
    "# X_train, X_test, y1_train, y1_test = train_test_split(X, y1, test_size=0.2, random_state=42)\n",
    "# _, _, y2_train, y2_test = train_test_split(X, y2, test_size=0.2, random_state=42)\n",
    "# _, _, y3_train, y3_test = train_test_split(X, y3, test_size=0.2, random_state=42)\n",
    "# _, _, y4_train, y4_test = train_test_split(X, y4, test_size=0.2, random_state=42)"
   ]
  },
  {
   "cell_type": "code",
   "execution_count": 135,
   "metadata": {},
   "outputs": [
    {
     "data": {
      "text/plain": [
       "((6940, 71597), (6940,), (6940,), (6940,), (6940,))"
      ]
     },
     "execution_count": 135,
     "metadata": {},
     "output_type": "execute_result"
    }
   ],
   "source": [
    "X_train.shape, y1_train.shape, y2_train.shape, y3_train.shape, y4_train.shape"
   ]
  },
  {
   "cell_type": "code",
   "execution_count": 136,
   "metadata": {},
   "outputs": [
    {
     "data": {
      "text/plain": [
       "((1735, 71597), (1735,), (1735,), (1735,), (1735,))"
      ]
     },
     "execution_count": 136,
     "metadata": {},
     "output_type": "execute_result"
    }
   ],
   "source": [
    "X_test.shape, y1_test.shape, y2_test.shape, y3_test.shape, y4_test.shape"
   ]
  },
  {
   "cell_type": "code",
   "execution_count": 137,
   "metadata": {},
   "outputs": [],
   "source": [
    "# Save data\n",
    "np.save('../data/tfidf/train/X_train.npy', X_train)\n",
    "np.save('../data/tfidf/train/y1_train.npy', y1_train)\n",
    "np.save('../data/tfidf/train/y2_train.npy', y2_train)\n",
    "np.save('../data/tfidf/train/y3_train.npy', y3_train)\n",
    "np.save('../data/tfidf/train/y4_train.npy', y4_train)\n",
    "\n",
    "np.save('../data/tfidf/test/X_test.npy', X_test)\n",
    "np.save('../data/tfidf/test/y1_test.npy', y1_test)\n",
    "np.save('../data/tfidf/test/y2_test.npy', y2_test)\n",
    "np.save('../data/tfidf/test/y3_test.npy', y3_test)\n",
    "np.save('../data/tfidf/test/y4_test.npy', y4_test)"
   ]
  },
  {
   "cell_type": "code",
   "execution_count": 138,
   "metadata": {
    "tags": []
   },
   "outputs": [],
   "source": [
    "import os\n",
    "\n",
    "# Define directory paths\n",
    "train_dir = '../data/tfidf/train/'\n",
    "test_dir = '../data/tfidf/test/'\n",
    "\n",
    "# Create directories if they don't exist\n",
    "os.makedirs(train_dir, exist_ok=True)\n",
    "os.makedirs(test_dir, exist_ok=True)\n",
    "\n",
    "# Save data\n",
    "np.save(os.path.join(train_dir, 'X_train.npy'), X_train)\n",
    "np.save(os.path.join(train_dir, 'y1_train.npy'), y1_train)\n",
    "np.save(os.path.join(train_dir, 'y2_train.npy'), y2_train)\n",
    "np.save(os.path.join(train_dir, 'y3_train.npy'), y3_train)\n",
    "np.save(os.path.join(train_dir, 'y4_train.npy'), y4_train)\n",
    "\n",
    "np.save(os.path.join(test_dir, 'X_test.npy'), X_test)\n",
    "np.save(os.path.join(test_dir, 'y1_test.npy'), y1_test)\n",
    "np.save(os.path.join(test_dir, 'y2_test.npy'), y2_test)\n",
    "np.save(os.path.join(test_dir, 'y3_test.npy'), y3_test)\n",
    "np.save(os.path.join(test_dir, 'y4_test.npy'), y4_test)"
   ]
  },
  {
   "cell_type": "code",
   "execution_count": 139,
   "metadata": {},
   "outputs": [],
   "source": [
    "# Loading the data\n",
    "X_train = np.load('../data/tfidf/train/X_train.npy')\n",
    "y1_train = np.load('../data/tfidf/train/y1_train.npy')\n",
    "y2_train = np.load('../data/tfidf/train/y2_train.npy')\n",
    "y3_train = np.load('../data/tfidf/train/y3_train.npy')\n",
    "y4_train = np.load('../data/tfidf/train/y4_train.npy')\n",
    "\n",
    "X_test = np.load('../data/tfidf/test/X_test.npy')\n",
    "y1_test = np.load('../data/tfidf/test/y1_test.npy')\n",
    "y2_test = np.load('../data/tfidf/test/y2_test.npy')\n",
    "y3_test = np.load('../data/tfidf/test/y3_test.npy')\n",
    "y4_test = np.load('../data/tfidf/test/y4_test.npy')"
   ]
  },
  {
   "cell_type": "code",
   "execution_count": 140,
   "metadata": {},
   "outputs": [],
   "source": [
    "train_inputs = (X_train, y1_train, y2_train, y3_train, y4_train)\n",
    "test_inputs = (X_test, y1_test, y2_test, y3_test, y4_test)"
   ]
  },
  {
   "cell_type": "code",
   "execution_count": 141,
   "metadata": {},
   "outputs": [
    {
     "data": {
      "text/plain": [
       "((6940, 71597), (6940,), (6940,), (6940,), (6940,))"
      ]
     },
     "execution_count": 141,
     "metadata": {},
     "output_type": "execute_result"
    }
   ],
   "source": [
    "X_train.shape, y1_train.shape, y2_train.shape, y3_train.shape, y4_train.shape"
   ]
  },
  {
   "cell_type": "code",
   "execution_count": 142,
   "metadata": {},
   "outputs": [
    {
     "data": {
      "text/plain": [
       "((1735, 71597), (1735,), (1735,), (1735,), (1735,))"
      ]
     },
     "execution_count": 142,
     "metadata": {},
     "output_type": "execute_result"
    }
   ],
   "source": [
    "X_test.shape, y1_test.shape, y2_test.shape, y3_test.shape, y4_test.shape"
   ]
  },
  {
   "cell_type": "code",
   "execution_count": 143,
   "metadata": {},
   "outputs": [],
   "source": [
    "# Loading the data\n",
    "# X_loaded = np.load('../data/tfidf/X.npy')\n",
    "# y1_loaded = np.load('../data/tfidf/y1.npy')\n",
    "# y2_loaded = np.load('../data/tfidf/y2.npy')\n",
    "# y3_loaded = np.load('../data/tfidf/y3.npy')\n",
    "# y4_loaded = np.load('../data/tfidf/y4.npy')\n",
    "\n",
    "# X_train, X_test, y1_train, y1_test = train_test_split(X_loaded, y1_loaded, test_size=0.2, random_state=42)\n",
    "# _, _, y2_train, y2_test = train_test_split(X_loaded, y2_loaded, test_size=0.2, random_state=42)\n",
    "# _, _, y3_train, y3_test = train_test_split(X_loaded, y3_loaded, test_size=0.2, random_state=42)\n",
    "# _, _, y4_train, y4_test = train_test_split(X_loaded, y4_loaded, test_size=0.2, random_state=42)"
   ]
  },
  {
   "cell_type": "markdown",
   "metadata": {},
   "source": [
    "## MLP"
   ]
  },
  {
   "cell_type": "code",
   "execution_count": 144,
   "metadata": {},
   "outputs": [],
   "source": [
    "import tensorflow as tf\n",
    "from keras.models import Sequential, Model\n",
    "from keras.layers import Dense, Input, Conv1D, GlobalMaxPooling1D, Dropout, Reshape, Flatten\n",
    "import numpy as np"
   ]
  },
  {
   "cell_type": "code",
   "execution_count": 145,
   "metadata": {},
   "outputs": [
    {
     "data": {
      "text/html": [
       "<pre style=\"white-space:pre;overflow-x:auto;line-height:normal;font-family:Menlo,'DejaVu Sans Mono',consolas,'Courier New',monospace\"><span style=\"font-weight: bold\">Model: \"mlp_model\"</span>\n",
       "</pre>\n"
      ],
      "text/plain": [
       "\u001b[1mModel: \"mlp_model\"\u001b[0m\n"
      ]
     },
     "metadata": {},
     "output_type": "display_data"
    },
    {
     "data": {
      "text/html": [
       "<pre style=\"white-space:pre;overflow-x:auto;line-height:normal;font-family:Menlo,'DejaVu Sans Mono',consolas,'Courier New',monospace\">┏━━━━━━━━━━━━━━━━━━━━━┳━━━━━━━━━━━━━━━━━━━┳━━━━━━━━━━━━┳━━━━━━━━━━━━━━━━━━━┓\n",
       "┃<span style=\"font-weight: bold\"> Layer (type)        </span>┃<span style=\"font-weight: bold\"> Output Shape      </span>┃<span style=\"font-weight: bold\">    Param # </span>┃<span style=\"font-weight: bold\"> Connected to      </span>┃\n",
       "┡━━━━━━━━━━━━━━━━━━━━━╇━━━━━━━━━━━━━━━━━━━╇━━━━━━━━━━━━╇━━━━━━━━━━━━━━━━━━━┩\n",
       "│ input_layer_12      │ (<span style=\"color: #00d7ff; text-decoration-color: #00d7ff\">None</span>, <span style=\"color: #00af00; text-decoration-color: #00af00\">71597</span>)     │          <span style=\"color: #00af00; text-decoration-color: #00af00\">0</span> │ -                 │\n",
       "│ (<span style=\"color: #0087ff; text-decoration-color: #0087ff\">InputLayer</span>)        │                   │            │                   │\n",
       "├─────────────────────┼───────────────────┼────────────┼───────────────────┤\n",
       "│ sequential_2        │ (<span style=\"color: #00d7ff; text-decoration-color: #00d7ff\">None</span>, <span style=\"color: #00af00; text-decoration-color: #00af00\">256</span>)       │ <span style=\"color: #00af00; text-decoration-color: #00af00\">73,578,752</span> │ input_layer_12[<span style=\"color: #00af00; text-decoration-color: #00af00\">0</span>… │\n",
       "│ (<span style=\"color: #0087ff; text-decoration-color: #0087ff\">Sequential</span>)        │                   │            │                   │\n",
       "├─────────────────────┼───────────────────┼────────────┼───────────────────┤\n",
       "│ output1             │ (<span style=\"color: #00d7ff; text-decoration-color: #00d7ff\">None</span>, <span style=\"color: #00af00; text-decoration-color: #00af00\">1</span>)         │     <span style=\"color: #00af00; text-decoration-color: #00af00\">33,025</span> │ sequential_2[<span style=\"color: #00af00; text-decoration-color: #00af00\">0</span>][<span style=\"color: #00af00; text-decoration-color: #00af00\">…</span> │\n",
       "│ (<span style=\"color: #0087ff; text-decoration-color: #0087ff\">Sequential</span>)        │                   │            │                   │\n",
       "├─────────────────────┼───────────────────┼────────────┼───────────────────┤\n",
       "│ output2             │ (<span style=\"color: #00d7ff; text-decoration-color: #00d7ff\">None</span>, <span style=\"color: #00af00; text-decoration-color: #00af00\">1</span>)         │     <span style=\"color: #00af00; text-decoration-color: #00af00\">33,025</span> │ sequential_2[<span style=\"color: #00af00; text-decoration-color: #00af00\">0</span>][<span style=\"color: #00af00; text-decoration-color: #00af00\">…</span> │\n",
       "│ (<span style=\"color: #0087ff; text-decoration-color: #0087ff\">Sequential</span>)        │                   │            │                   │\n",
       "├─────────────────────┼───────────────────┼────────────┼───────────────────┤\n",
       "│ output3             │ (<span style=\"color: #00d7ff; text-decoration-color: #00d7ff\">None</span>, <span style=\"color: #00af00; text-decoration-color: #00af00\">1</span>)         │     <span style=\"color: #00af00; text-decoration-color: #00af00\">33,025</span> │ sequential_2[<span style=\"color: #00af00; text-decoration-color: #00af00\">0</span>][<span style=\"color: #00af00; text-decoration-color: #00af00\">…</span> │\n",
       "│ (<span style=\"color: #0087ff; text-decoration-color: #0087ff\">Sequential</span>)        │                   │            │                   │\n",
       "├─────────────────────┼───────────────────┼────────────┼───────────────────┤\n",
       "│ output4             │ (<span style=\"color: #00d7ff; text-decoration-color: #00d7ff\">None</span>, <span style=\"color: #00af00; text-decoration-color: #00af00\">1</span>)         │     <span style=\"color: #00af00; text-decoration-color: #00af00\">33,025</span> │ sequential_2[<span style=\"color: #00af00; text-decoration-color: #00af00\">0</span>][<span style=\"color: #00af00; text-decoration-color: #00af00\">…</span> │\n",
       "│ (<span style=\"color: #0087ff; text-decoration-color: #0087ff\">Sequential</span>)        │                   │            │                   │\n",
       "└─────────────────────┴───────────────────┴────────────┴───────────────────┘\n",
       "</pre>\n"
      ],
      "text/plain": [
       "┏━━━━━━━━━━━━━━━━━━━━━┳━━━━━━━━━━━━━━━━━━━┳━━━━━━━━━━━━┳━━━━━━━━━━━━━━━━━━━┓\n",
       "┃\u001b[1m \u001b[0m\u001b[1mLayer (type)       \u001b[0m\u001b[1m \u001b[0m┃\u001b[1m \u001b[0m\u001b[1mOutput Shape     \u001b[0m\u001b[1m \u001b[0m┃\u001b[1m \u001b[0m\u001b[1m   Param #\u001b[0m\u001b[1m \u001b[0m┃\u001b[1m \u001b[0m\u001b[1mConnected to     \u001b[0m\u001b[1m \u001b[0m┃\n",
       "┡━━━━━━━━━━━━━━━━━━━━━╇━━━━━━━━━━━━━━━━━━━╇━━━━━━━━━━━━╇━━━━━━━━━━━━━━━━━━━┩\n",
       "│ input_layer_12      │ (\u001b[38;5;45mNone\u001b[0m, \u001b[38;5;34m71597\u001b[0m)     │          \u001b[38;5;34m0\u001b[0m │ -                 │\n",
       "│ (\u001b[38;5;33mInputLayer\u001b[0m)        │                   │            │                   │\n",
       "├─────────────────────┼───────────────────┼────────────┼───────────────────┤\n",
       "│ sequential_2        │ (\u001b[38;5;45mNone\u001b[0m, \u001b[38;5;34m256\u001b[0m)       │ \u001b[38;5;34m73,578,752\u001b[0m │ input_layer_12[\u001b[38;5;34m0\u001b[0m… │\n",
       "│ (\u001b[38;5;33mSequential\u001b[0m)        │                   │            │                   │\n",
       "├─────────────────────┼───────────────────┼────────────┼───────────────────┤\n",
       "│ output1             │ (\u001b[38;5;45mNone\u001b[0m, \u001b[38;5;34m1\u001b[0m)         │     \u001b[38;5;34m33,025\u001b[0m │ sequential_2[\u001b[38;5;34m0\u001b[0m][\u001b[38;5;34m…\u001b[0m │\n",
       "│ (\u001b[38;5;33mSequential\u001b[0m)        │                   │            │                   │\n",
       "├─────────────────────┼───────────────────┼────────────┼───────────────────┤\n",
       "│ output2             │ (\u001b[38;5;45mNone\u001b[0m, \u001b[38;5;34m1\u001b[0m)         │     \u001b[38;5;34m33,025\u001b[0m │ sequential_2[\u001b[38;5;34m0\u001b[0m][\u001b[38;5;34m…\u001b[0m │\n",
       "│ (\u001b[38;5;33mSequential\u001b[0m)        │                   │            │                   │\n",
       "├─────────────────────┼───────────────────┼────────────┼───────────────────┤\n",
       "│ output3             │ (\u001b[38;5;45mNone\u001b[0m, \u001b[38;5;34m1\u001b[0m)         │     \u001b[38;5;34m33,025\u001b[0m │ sequential_2[\u001b[38;5;34m0\u001b[0m][\u001b[38;5;34m…\u001b[0m │\n",
       "│ (\u001b[38;5;33mSequential\u001b[0m)        │                   │            │                   │\n",
       "├─────────────────────┼───────────────────┼────────────┼───────────────────┤\n",
       "│ output4             │ (\u001b[38;5;45mNone\u001b[0m, \u001b[38;5;34m1\u001b[0m)         │     \u001b[38;5;34m33,025\u001b[0m │ sequential_2[\u001b[38;5;34m0\u001b[0m][\u001b[38;5;34m…\u001b[0m │\n",
       "│ (\u001b[38;5;33mSequential\u001b[0m)        │                   │            │                   │\n",
       "└─────────────────────┴───────────────────┴────────────┴───────────────────┘\n"
      ]
     },
     "metadata": {},
     "output_type": "display_data"
    },
    {
     "data": {
      "text/html": [
       "<pre style=\"white-space:pre;overflow-x:auto;line-height:normal;font-family:Menlo,'DejaVu Sans Mono',consolas,'Courier New',monospace\"><span style=\"font-weight: bold\"> Total params: </span><span style=\"color: #00af00; text-decoration-color: #00af00\">73,710,852</span> (281.18 MB)\n",
       "</pre>\n"
      ],
      "text/plain": [
       "\u001b[1m Total params: \u001b[0m\u001b[38;5;34m73,710,852\u001b[0m (281.18 MB)\n"
      ]
     },
     "metadata": {},
     "output_type": "display_data"
    },
    {
     "data": {
      "text/html": [
       "<pre style=\"white-space:pre;overflow-x:auto;line-height:normal;font-family:Menlo,'DejaVu Sans Mono',consolas,'Courier New',monospace\"><span style=\"font-weight: bold\"> Trainable params: </span><span style=\"color: #00af00; text-decoration-color: #00af00\">73,710,852</span> (281.18 MB)\n",
       "</pre>\n"
      ],
      "text/plain": [
       "\u001b[1m Trainable params: \u001b[0m\u001b[38;5;34m73,710,852\u001b[0m (281.18 MB)\n"
      ]
     },
     "metadata": {},
     "output_type": "display_data"
    },
    {
     "data": {
      "text/html": [
       "<pre style=\"white-space:pre;overflow-x:auto;line-height:normal;font-family:Menlo,'DejaVu Sans Mono',consolas,'Courier New',monospace\"><span style=\"font-weight: bold\"> Non-trainable params: </span><span style=\"color: #00af00; text-decoration-color: #00af00\">0</span> (0.00 B)\n",
       "</pre>\n"
      ],
      "text/plain": [
       "\u001b[1m Non-trainable params: \u001b[0m\u001b[38;5;34m0\u001b[0m (0.00 B)\n"
      ]
     },
     "metadata": {},
     "output_type": "display_data"
    }
   ],
   "source": [
    "# Define model architecture\n",
    "input_shape = (tfidf_matrix_train.shape[1],)\n",
    "inputs = Input(shape=input_shape)\n",
    "\n",
    "shared_layers = Sequential([\n",
    "    Dense(1024, activation='relu'),\n",
    "    Dense(256, activation='relu')\n",
    "])\n",
    "shared_output = shared_layers(inputs)\n",
    "\n",
    "output1_layers = Sequential([\n",
    "    Dense(128, activation='relu'),\n",
    "    Dense(1, activation='sigmoid')\n",
    "], name='output1')\n",
    "\n",
    "output2_layers = Sequential([\n",
    "    Dense(128, activation='relu'),\n",
    "    Dense(1, activation='sigmoid')\n",
    "], name='output2')\n",
    "\n",
    "output3_layers = Sequential([\n",
    "    Dense(128, activation='relu'),\n",
    "    Dense(1, activation='sigmoid')\n",
    "], name='output3')\n",
    "\n",
    "output4_layers = Sequential([\n",
    "    Dense(128, activation='relu'),\n",
    "    Dense(1, activation='sigmoid')\n",
    "], name='output4')\n",
    "\n",
    "output1 = output1_layers(shared_output)\n",
    "output2 = output2_layers(shared_output)\n",
    "output3 = output3_layers(shared_output)\n",
    "output4 = output4_layers(shared_output)\n",
    "\n",
    "# Compile the model\n",
    "mlp_model = Model(inputs=inputs, outputs=[output1, output2, output3, output4], name='mlp_model')\n",
    "mlp_model.compile(optimizer='adam',\n",
    "              loss={'output1': 'binary_crossentropy', 'output2': 'binary_crossentropy',\n",
    "                    'output3': 'binary_crossentropy', 'output4': 'binary_crossentropy'},\n",
    "              metrics={'output1': 'accuracy', 'output2': 'accuracy',\n",
    "                       'output3': 'accuracy', 'output4': 'accuracy'})\n",
    "\n",
    "# Display model summary\n",
    "mlp_model.summary()\n"
   ]
  },
  {
   "cell_type": "code",
   "execution_count": 172,
   "metadata": {},
   "outputs": [],
   "source": [
    "from sklearn.model_selection import train_test_split\n",
    "\n",
    "def train_mbti_model_mlp(model, train_inputs, test_inputs):\n",
    "        X_train, y1_train, y2_train, y3_train, y4_train = train_inputs\n",
    "        X_test, y1_test, y2_test, y3_test, y4_test = test_inputs\n",
    "\n",
    "        model.fit(x=X_train,\n",
    "                y={'output1': y1_train, 'output2': y2_train, 'output3': y3_train, 'output4': y4_train},\n",
    "                epochs=3,\n",
    "                batch_size=64)\n",
    "        test_scores = model.evaluate(x=X_test,\n",
    "                                y={'output1': y1_test, 'output2': y2_test, 'output3': y3_test, 'output4': y4_test},\n",
    "                                verbose=2)\n",
    "        print(f'Test Scores: {test_scores}')\n",
    "        \n",
    "        return test_scores"
   ]
  },
  {
   "cell_type": "code",
   "execution_count": 173,
   "metadata": {
    "tags": []
   },
   "outputs": [
    {
     "name": "stdout",
     "output_type": "stream",
     "text": [
      "Epoch 1/3\n",
      "\u001b[1m109/109\u001b[0m \u001b[32m━━━━━━━━━━━━━━━━━━━━\u001b[0m\u001b[37m\u001b[0m \u001b[1m25s\u001b[0m 228ms/step - loss: 4.2469e-04 - output1_accuracy: 1.0000 - output2_accuracy: 1.0000 - output3_accuracy: 1.0000 - output4_accuracy: 1.0000\n",
      "Epoch 2/3\n",
      "\u001b[1m109/109\u001b[0m \u001b[32m━━━━━━━━━━━━━━━━━━━━\u001b[0m\u001b[37m\u001b[0m \u001b[1m25s\u001b[0m 230ms/step - loss: 1.6272e-04 - output1_accuracy: 1.0000 - output2_accuracy: 1.0000 - output3_accuracy: 1.0000 - output4_accuracy: 1.0000\n",
      "Epoch 3/3\n",
      "\u001b[1m109/109\u001b[0m \u001b[32m━━━━━━━━━━━━━━━━━━━━\u001b[0m\u001b[37m\u001b[0m \u001b[1m25s\u001b[0m 231ms/step - loss: 1.6889e-04 - output1_accuracy: 1.0000 - output2_accuracy: 1.0000 - output3_accuracy: 1.0000 - output4_accuracy: 1.0000\n",
      "55/55 - 1s - 25ms/step - loss: 4.5755 - output1_accuracy: 0.8438 - output2_accuracy: 0.8813 - output3_accuracy: 0.8259 - output4_accuracy: 0.7251\n",
      "Test Scores: [4.575547218322754, 0.8438040614128113, 0.8812680244445801, 0.8259366154670715, 0.7250720262527466]\n"
     ]
    },
    {
     "data": {
      "text/plain": [
       "[4.575547218322754,\n",
       " 0.8438040614128113,\n",
       " 0.8812680244445801,\n",
       " 0.8259366154670715,\n",
       " 0.7250720262527466]"
      ]
     },
     "execution_count": 173,
     "metadata": {},
     "output_type": "execute_result"
    }
   ],
   "source": [
    "train_mbti_model_mlp(mlp_model, train_inputs, test_inputs)"
   ]
  },
  {
   "cell_type": "markdown",
   "metadata": {
    "tags": []
   },
   "source": [
    "## Visualize accuracy ( Model 1 )"
   ]
  },
  {
   "cell_type": "code",
   "execution_count": 188,
   "metadata": {
    "tags": []
   },
   "outputs": [
    {
     "data": {
      "image/png": "[encoded data removed]",
      "text/plain": [
       "<Figure size 1000x600 with 1 Axes>"
      ]
     },
     "metadata": {},
     "output_type": "display_data"
    }
   ],
   "source": [
    "import matplotlib.pyplot as plt\n",
    "\n",
    "# Define labels for each output\n",
    "output_labels = ['Overall Loss', 'I/E Accuracy', 'N/S Accuracy', 'F/T Accuracy', 'P/J Accuracy']\n",
    "\n",
    "# Plotting the bar plot\n",
    "plt.figure(figsize=(10, 6))\n",
    "bars = plt.bar(output_labels, test_scores_list, color='skyblue')\n",
    "plt.xlabel('Output')\n",
    "plt.ylabel('Score')\n",
    "plt.title('Bar Plot for Test Scores')\n",
    "\n",
    "# Add numbers on top of each bar\n",
    "for bar, score in zip(bars, test_scores_list):\n",
    "    plt.text(bar.get_x() + bar.get_width() / 2, bar.get_height() + 0.01, f'{score:.4f}', ha='center', va='bottom')\n",
    "\n",
    "plt.show()"
   ]
  },
  {
   "cell_type": "code",
   "execution_count": 189,
   "metadata": {
    "tags": []
   },
   "outputs": [
    {
     "data": {
      "text/html": [
       "<div>\n",
       "<style scoped>\n",
       "    .dataframe tbody tr th:only-of-type {\n",
       "        vertical-align: middle;\n",
       "    }\n",
       "\n",
       "    .dataframe tbody tr th {\n",
       "        vertical-align: top;\n",
       "    }\n",
       "\n",
       "    .dataframe thead th {\n",
       "        text-align: right;\n",
       "    }\n",
       "</style>\n",
       "<table border=\"1\" class=\"dataframe\">\n",
       "  <thead>\n",
       "    <tr style=\"text-align: right;\">\n",
       "      <th></th>\n",
       "      <th>Model</th>\n",
       "      <th>Overall Loss</th>\n",
       "      <th>I/E Accuracy</th>\n",
       "      <th>N/S Accuracy</th>\n",
       "      <th>F/T Accuracy</th>\n",
       "      <th>P/J Accuracy</th>\n",
       "    </tr>\n",
       "  </thead>\n",
       "  <tbody>\n",
       "    <tr>\n",
       "      <th>0</th>\n",
       "      <td>MLP</td>\n",
       "      <td>4.119222</td>\n",
       "      <td>0.837464</td>\n",
       "      <td>0.880692</td>\n",
       "      <td>0.822478</td>\n",
       "      <td>0.723919</td>\n",
       "    </tr>\n",
       "  </tbody>\n",
       "</table>\n",
       "</div>"
      ],
      "text/plain": [
       "  Model  Overall Loss  I/E Accuracy  N/S Accuracy  F/T Accuracy  P/J Accuracy\n",
       "0   MLP      4.119222      0.837464      0.880692      0.822478      0.723919"
      ]
     },
     "metadata": {},
     "output_type": "display_data"
    }
   ],
   "source": [
    "import pandas as pd\n",
    "\n",
    "# Convert the test scores list to a DataFrame\n",
    "test_scores_df = pd.DataFrame([['MLP'] + test_scores_list], columns=['Model', 'Overall Loss', 'I/E Accuracy', 'N/S Accuracy', 'F/T Accuracy', 'P/J Accuracy'])\n",
    "\n",
    "# Display the DataFrame\n",
    "display(test_scores_df)\n"
   ]
  },
  {
   "cell_type": "code",
   "execution_count": 190,
   "metadata": {
    "tags": []
   },
   "outputs": [
    {
     "data": {
      "image/png": "[encoded data removed]",
      "text/plain": [
       "<Figure size 800x500 with 1 Axes>"
      ]
     },
     "metadata": {},
     "output_type": "display_data"
    }
   ],
   "source": [
    "import matplotlib.pyplot as plt\n",
    "\n",
    "# Define labels for each output\n",
    "output_labels = ['I/E Accuracy', 'N/S Accuracy', 'F/T Accuracy', 'P/J Accuracy']\n",
    "\n",
    "# Selecting test scores for 'Output 1' to 'Output 4'\n",
    "selected_scores = test_scores_list[1:]\n",
    "\n",
    "# Plotting the bar plot\n",
    "plt.figure(figsize=(8, 5))\n",
    "bars = plt.bar(output_labels, selected_scores, color='skyblue')\n",
    "plt.xlabel('Output')\n",
    "plt.ylabel('Accuracy')\n",
    "plt.title('Bar Plot for Test Scores in 4 Pairs')\n",
    "plt.ylim(0, 1)  # Limiting y-axis from 0 to 1 for accuracy\n",
    "\n",
    "# Add numbers on top of each bar\n",
    "for bar, score in zip(bars, selected_scores):\n",
    "    plt.text(bar.get_x() + bar.get_width() / 2, bar.get_height() + 0.01, f'{score:.4f}', ha='center', va='bottom')\n",
    "\n",
    "plt.show()"
   ]
  },
  {
   "cell_type": "markdown",
   "metadata": {},
   "source": [
    "## Visualize f1,precision,recall and confusion matrix (Model 1)"
   ]
  },
  {
   "cell_type": "code",
   "execution_count": 191,
   "metadata": {
    "tags": []
   },
   "outputs": [
    {
     "name": "stdout",
     "output_type": "stream",
     "text": [
      "\u001b[1m55/55\u001b[0m \u001b[32m━━━━━━━━━━━━━━━━━━━━\u001b[0m\u001b[37m\u001b[0m \u001b[1m2s\u001b[0m 27ms/step\n",
      "Output 1:\n",
      "Precision: 0.6907216494845361\n",
      "Recall: 0.5261780104712042\n",
      "F1-score: 0.5973254086181278\n",
      "Confusion Matrix:\n",
      "[[1263   90]\n",
      " [ 181  201]]\n",
      "\n",
      "Output 2:\n",
      "Precision: 0.7083333333333334\n",
      "Recall: 0.2764227642276423\n",
      "F1-score: 0.39766081871345027\n",
      "Confusion Matrix:\n",
      "[[1461   28]\n",
      " [ 178   68]]\n",
      "\n",
      "Output 3:\n",
      "Precision: 0.8229166666666666\n",
      "Recall: 0.7919799498746867\n",
      "F1-score: 0.8071519795657726\n",
      "Confusion Matrix:\n",
      "[[801 136]\n",
      " [166 632]]\n",
      "\n",
      "Output 4:\n",
      "Precision: 0.6627118644067796\n",
      "Recall: 0.5844544095665172\n",
      "F1-score: 0.6211278792692613\n",
      "Confusion Matrix:\n",
      "[[867 199]\n",
      " [278 391]]\n"
     ]
    }
   ],
   "source": [
    "from sklearn.metrics import precision_score, recall_score, f1_score, confusion_matrix\n",
    "\n",
    "# Generate predictions for each output\n",
    "predictions = mlp_model.predict(X_test)\n",
    "\n",
    "# Extract predictions for each output\n",
    "y_pred_output1 = predictions[0]  # Assuming output1 is the first output\n",
    "y_pred_output2 = predictions[1]  # Assuming output2 is the second output\n",
    "y_pred_output3 = predictions[2]  # Assuming output3 is the third output\n",
    "y_pred_output4 = predictions[3]  # Assuming output4 is the fourth output\n",
    "\n",
    "# Calculate precision, recall, and F1-score for each output\n",
    "precision_output1 = precision_score(y1_test, (y_pred_output1 > 0.5))\n",
    "recall_output1 = recall_score(y1_test, (y_pred_output1 > 0.5))\n",
    "f1_score_output1 = f1_score(y1_test, (y_pred_output1 > 0.5))\n",
    "\n",
    "precision_output2 = precision_score(y2_test, (y_pred_output2 > 0.5))\n",
    "recall_output2 = recall_score(y2_test, (y_pred_output2 > 0.5))\n",
    "f1_score_output2 = f1_score(y2_test, (y_pred_output2 > 0.5))\n",
    "\n",
    "precision_output3 = precision_score(y3_test, (y_pred_output3 > 0.5))\n",
    "recall_output3 = recall_score(y3_test, (y_pred_output3 > 0.5))\n",
    "f1_score_output3 = f1_score(y3_test, (y_pred_output3 > 0.5))\n",
    "\n",
    "precision_output4 = precision_score(y4_test, (y_pred_output4 > 0.5))\n",
    "recall_output4 = recall_score(y4_test, (y_pred_output4 > 0.5))\n",
    "f1_score_output4 = f1_score(y4_test, (y_pred_output4 > 0.5))\n",
    "\n",
    "# Compute confusion matrix for each output\n",
    "conf_matrix_output1 = confusion_matrix(y1_test, (y_pred_output1 > 0.5))\n",
    "conf_matrix_output2 = confusion_matrix(y2_test, (y_pred_output2 > 0.5))\n",
    "conf_matrix_output3 = confusion_matrix(y3_test, (y_pred_output3 > 0.5))\n",
    "conf_matrix_output4 = confusion_matrix(y4_test, (y_pred_output4 > 0.5))\n",
    "\n",
    "# Display the results\n",
    "print(\"Output 1:\")\n",
    "print(\"Precision:\", precision_output1)\n",
    "print(\"Recall:\", recall_output1)\n",
    "print(\"F1-score:\", f1_score_output1)\n",
    "print(\"Confusion Matrix:\")\n",
    "print(conf_matrix_output1)\n",
    "\n",
    "print(\"\\nOutput 2:\")\n",
    "print(\"Precision:\", precision_output2)\n",
    "print(\"Recall:\", recall_output2)\n",
    "print(\"F1-score:\", f1_score_output2)\n",
    "print(\"Confusion Matrix:\")\n",
    "print(conf_matrix_output2)\n",
    "\n",
    "print(\"\\nOutput 3:\")\n",
    "print(\"Precision:\", precision_output3)\n",
    "print(\"Recall:\", recall_output3)\n",
    "print(\"F1-score:\", f1_score_output3)\n",
    "print(\"Confusion Matrix:\")\n",
    "print(conf_matrix_output3)\n",
    "\n",
    "print(\"\\nOutput 4:\")\n",
    "print(\"Precision:\", precision_output4)\n",
    "print(\"Recall:\", recall_output4)\n",
    "print(\"F1-score:\", f1_score_output4)\n",
    "print(\"Confusion Matrix:\")\n",
    "print(conf_matrix_output4)\n"
   ]
  },
  {
   "cell_type": "code",
   "execution_count": 192,
   "metadata": {
    "tags": []
   },
   "outputs": [
    {
     "data": {
      "image/png": "[encoded data removed]",
      "text/plain": [
       "<Figure size 500x500 with 1 Axes>"
      ]
     },
     "metadata": {},
     "output_type": "display_data"
    },
    {
     "data": {
      "image/png": "[encoded data removed]",
      "text/plain": [
       "<Figure size 500x500 with 1 Axes>"
      ]
     },
     "metadata": {},
     "output_type": "display_data"
    },
    {
     "data": {
      "image/png": "[encoded data removed]",
      "text/plain": [
       "<Figure size 500x500 with 1 Axes>"
      ]
     },
     "metadata": {},
     "output_type": "display_data"
    },
    {
     "data": {
      "image/png": "[encoded data removed]",
      "text/plain": [
       "<Figure size 500x500 with 1 Axes>"
      ]
     },
     "metadata": {},
     "output_type": "display_data"
    }
   ],
   "source": [
    "import matplotlib.pyplot as plt\n",
    "import seaborn as sns\n",
    "\n",
    "# Function to plot confusion matrix\n",
    "def plot_confusion_matrix(conf_matrix, title):\n",
    "    plt.figure(figsize=(5, 5))\n",
    "    sns.heatmap(conf_matrix, annot=True, fmt=\"d\", cmap=\"Blues\", cbar=False,\n",
    "                xticklabels=[\"I\", \"E\"], yticklabels=[\"I\", \"E\"])\n",
    "    plt.title(title)\n",
    "    plt.xlabel('Predicted')\n",
    "    plt.ylabel('True')\n",
    "    plt.show()\n",
    "\n",
    "# Plot confusion matrices for each output\n",
    "plot_confusion_matrix(conf_matrix_output1, \"Confusion Matrix for I/E Classification\")\n",
    "plot_confusion_matrix(conf_matrix_output2, \"Confusion Matrix for N/S Classification\")\n",
    "plot_confusion_matrix(conf_matrix_output3, \"Confusion Matrix for F/T Classification\")\n",
    "plot_confusion_matrix(conf_matrix_output4, \"Confusion Matrix for P/J Classification\")\n",
    "\n"
   ]
  },
  {
   "cell_type": "code",
   "execution_count": 196,
   "metadata": {
    "tags": []
   },
   "outputs": [
    {
     "data": {
      "text/html": [
       "<style type=\"text/css\">\n",
       "#T_ccb31 th {\n",
       "  background-color: #f2f2f2;\n",
       "  color: black;\n",
       "  font-weight: bold;\n",
       "  text-align: center;\n",
       "}\n",
       "#T_ccb31 td {\n",
       "  text-align: center;\n",
       "}\n",
       "#T_ccb31_row0_col0, #T_ccb31_row0_col1, #T_ccb31_row0_col2, #T_ccb31_row0_col3, #T_ccb31_row0_col4, #T_ccb31_row1_col0, #T_ccb31_row1_col1, #T_ccb31_row1_col2, #T_ccb31_row1_col3, #T_ccb31_row1_col4, #T_ccb31_row2_col0, #T_ccb31_row2_col1, #T_ccb31_row2_col2, #T_ccb31_row2_col3, #T_ccb31_row2_col4, #T_ccb31_row3_col0, #T_ccb31_row3_col1, #T_ccb31_row3_col2, #T_ccb31_row3_col3, #T_ccb31_row3_col4 {\n",
       "  text-align: center;\n",
       "}\n",
       "</style>\n",
       "<table id=\"T_ccb31\">\n",
       "  <thead>\n",
       "    <tr>\n",
       "      <th class=\"blank level0\" >&nbsp;</th>\n",
       "      <th id=\"T_ccb31_level0_col0\" class=\"col_heading level0 col0\" >MLP</th>\n",
       "      <th id=\"T_ccb31_level0_col1\" class=\"col_heading level0 col1\" >I/E</th>\n",
       "      <th id=\"T_ccb31_level0_col2\" class=\"col_heading level0 col2\" >N/S</th>\n",
       "      <th id=\"T_ccb31_level0_col3\" class=\"col_heading level0 col3\" >F/T</th>\n",
       "      <th id=\"T_ccb31_level0_col4\" class=\"col_heading level0 col4\" >P/J</th>\n",
       "    </tr>\n",
       "  </thead>\n",
       "  <tbody>\n",
       "    <tr>\n",
       "      <th id=\"T_ccb31_level0_row0\" class=\"row_heading level0 row0\" >0</th>\n",
       "      <td id=\"T_ccb31_row0_col0\" class=\"data row0 col0\" >Accuracy</td>\n",
       "      <td id=\"T_ccb31_row0_col1\" class=\"data row0 col1\" >0.843804</td>\n",
       "      <td id=\"T_ccb31_row0_col2\" class=\"data row0 col2\" >0.881268</td>\n",
       "      <td id=\"T_ccb31_row0_col3\" class=\"data row0 col3\" >0.825937</td>\n",
       "      <td id=\"T_ccb31_row0_col4\" class=\"data row0 col4\" >0.725072</td>\n",
       "    </tr>\n",
       "    <tr>\n",
       "      <th id=\"T_ccb31_level0_row1\" class=\"row_heading level0 row1\" >1</th>\n",
       "      <td id=\"T_ccb31_row1_col0\" class=\"data row1 col0\" >F1-score</td>\n",
       "      <td id=\"T_ccb31_row1_col1\" class=\"data row1 col1\" >0.597325</td>\n",
       "      <td id=\"T_ccb31_row1_col2\" class=\"data row1 col2\" >0.397661</td>\n",
       "      <td id=\"T_ccb31_row1_col3\" class=\"data row1 col3\" >0.807152</td>\n",
       "      <td id=\"T_ccb31_row1_col4\" class=\"data row1 col4\" >0.621128</td>\n",
       "    </tr>\n",
       "    <tr>\n",
       "      <th id=\"T_ccb31_level0_row2\" class=\"row_heading level0 row2\" >2</th>\n",
       "      <td id=\"T_ccb31_row2_col0\" class=\"data row2 col0\" >Precision</td>\n",
       "      <td id=\"T_ccb31_row2_col1\" class=\"data row2 col1\" >0.690722</td>\n",
       "      <td id=\"T_ccb31_row2_col2\" class=\"data row2 col2\" >0.708333</td>\n",
       "      <td id=\"T_ccb31_row2_col3\" class=\"data row2 col3\" >0.822917</td>\n",
       "      <td id=\"T_ccb31_row2_col4\" class=\"data row2 col4\" >0.662712</td>\n",
       "    </tr>\n",
       "    <tr>\n",
       "      <th id=\"T_ccb31_level0_row3\" class=\"row_heading level0 row3\" >3</th>\n",
       "      <td id=\"T_ccb31_row3_col0\" class=\"data row3 col0\" >Recall</td>\n",
       "      <td id=\"T_ccb31_row3_col1\" class=\"data row3 col1\" >0.526178</td>\n",
       "      <td id=\"T_ccb31_row3_col2\" class=\"data row3 col2\" >0.276423</td>\n",
       "      <td id=\"T_ccb31_row3_col3\" class=\"data row3 col3\" >0.791980</td>\n",
       "      <td id=\"T_ccb31_row3_col4\" class=\"data row3 col4\" >0.584454</td>\n",
       "    </tr>\n",
       "  </tbody>\n",
       "</table>\n"
      ],
      "text/plain": [
       "<pandas.io.formats.style.Styler at 0x2cb0e9bd0>"
      ]
     },
     "execution_count": 196,
     "metadata": {},
     "output_type": "execute_result"
    }
   ],
   "source": [
    "import pandas as pd\n",
    "\n",
    "# Define the data for the table\n",
    "data = {\n",
    "    'MLP': ['Accuracy', 'F1-score', 'Precision', 'Recall'],\n",
    "    'I/E': [accuracy_output1, f1_score_output1, precision_output1, recall_output1],\n",
    "    'N/S': [accuracy_output2, f1_score_output2, precision_output2, recall_output2],\n",
    "    'F/T': [accuracy_output3, f1_score_output3, precision_output3, recall_output3],\n",
    "    'P/J': [accuracy_output4, f1_score_output4, precision_output4, recall_output4]\n",
    "}\n",
    "\n",
    "# Create a DataFrame\n",
    "table_df = pd.DataFrame(data)\n",
    "\n",
    "# Apply styling\n",
    "styled_table_df = table_df.style.set_table_styles([\n",
    "    {'selector': 'th', 'props': [('background-color', '#f2f2f2'), ('color', 'black'), ('font-weight', 'bold'), ('text-align', 'center')]},\n",
    "    {'selector': 'td', 'props': [('text-align', 'center')]}\n",
    "]).set_properties(**{'text-align': 'center'})\n",
    "\n",
    "# Display the styled table\n",
    "styled_table_df\n"
   ]
  },
  {
   "cell_type": "markdown",
   "metadata": {},
   "source": [
    "## Visualize performance ( Model 1-3 )"
   ]
  },
  {
   "cell_type": "code",
   "execution_count": null,
   "metadata": {},
   "outputs": [],
   "source": [
    "import matplotlib.pyplot as plt\n",
    "import numpy as np\n",
    "\n",
    "# Define labels for each output\n",
    "output_labels = ['Overall Loss', 'I/E Accuracy', 'N/S Accuracy', 'F/T Accuracy', 'P/J Accuracy']\n",
    "\n",
    "# Define test scores for three models (assuming test_scores_list1, test_scores_list2, test_scores_list3 are lists of scores for each model)\n",
    "test_scores_lists = [test_scores_list1, test_scores_list2, test_scores_list3]\n",
    "model_names = ['Model 1', 'Model 2', 'Model 3']\n",
    "colors = ['blue', 'red', 'green']\n",
    "\n",
    "# Plotting the bar plot\n",
    "plt.figure(figsize=(12, 6))\n",
    "\n",
    "# Set the width of the bars\n",
    "bar_width = 0.2\n",
    "\n",
    "# Set the positions of the bars on the x-axis\n",
    "positions = np.arange(len(output_labels))\n",
    "\n",
    "# Plot bars for each model\n",
    "for i, scores_list in enumerate(test_scores_lists):\n",
    "    bars = plt.bar(positions + i * bar_width, scores_list, bar_width, color=colors[i], label=model_names[i])\n",
    "\n",
    "plt.xlabel('Output')\n",
    "plt.ylabel('Score')\n",
    "plt.title('Bar Plot for Test Scores')\n",
    "plt.xticks(positions + bar_width, output_labels)\n",
    "plt.legend()\n",
    "\n",
    "# Add numbers on top of each bar\n",
    "for i, bars in enumerate(zip(*plt.gca().containers)):\n",
    "    for bar, score in zip(bars, test_scores_lists[i]):\n",
    "        plt.text(bar.get_x() + bar.get_width() / 2, bar.get_height() + 0.01, f'{score:.4f}', ha='center', va='bottom')\n",
    "\n",
    "plt.show()"
   ]
  },
  {
   "cell_type": "code",
   "execution_count": null,
   "metadata": {},
   "outputs": [],
   "source": [
    "import pandas as pd\n",
    "\n",
    "# Assuming you have test scores lists for three models: test_scores_list1, test_scores_list2, test_scores_list3\n",
    "# Assuming you have model names for three models: 'MLP', 'Model 2', 'Model 3'\n",
    "\n",
    "# Concatenate test scores for all models\n",
    "all_test_scores = [\n",
    "    ['MLP'] + test_scores_list1,\n",
    "    ['Model 2'] + test_scores_list2,\n",
    "    ['Model 3'] + test_scores_list3\n",
    "]\n",
    "\n",
    "# Create a DataFrame\n",
    "test_scores_df = pd.DataFrame(all_test_scores, columns=['Model', 'Overall Loss', 'I/E Accuracy', 'N/S Accuracy', 'F/T Accuracy', 'P/J Accuracy'])\n",
    "\n",
    "# Display the DataFrame\n",
    "display(test_scores_df)\n"
   ]
  },
  {
   "cell_type": "code",
   "execution_count": null,
   "metadata": {},
   "outputs": [],
   "source": [
    "import matplotlib.pyplot as plt\n",
    "import numpy as np\n",
    "\n",
    "# Define labels for each output\n",
    "output_labels = ['I/E Accuracy', 'N/S Accuracy', 'F/T Accuracy', 'P/J Accuracy']\n",
    "\n",
    "# Test scores for three models (assuming test_scores_list1, test_scores_list2, test_scores_list3 are lists of scores for each model)\n",
    "test_scores_lists = [test_scores_list1[1:], test_scores_list2[1:], test_scores_list3[1:]]\n",
    "model_names = ['Model 1', 'Model 2', 'Model 3']\n",
    "colors = ['blue', 'red', 'green']\n",
    "\n",
    "# Plotting the bar plot\n",
    "plt.figure(figsize=(10, 6))\n",
    "\n",
    "# Set the width of the bars\n",
    "bar_width = 0.2\n",
    "\n",
    "# Set the positions of the bars on the x-axis\n",
    "positions = np.arange(len(output_labels))\n",
    "\n",
    "# Plot bars for each model\n",
    "for i, scores_list in enumerate(test_scores_lists):\n",
    "    bars = plt.bar(positions + i * bar_width, scores_list, bar_width, color=colors[i], label=model_names[i])\n",
    "\n",
    "plt.xlabel('Output')\n",
    "plt.ylabel('Accuracy')\n",
    "plt.title('Bar Plot for Test Scores in 4 Pairs')\n",
    "plt.xticks(positions + bar_width, output_labels)\n",
    "plt.legend()\n",
    "\n",
    "# Add numbers on top of each bar\n",
    "for i, bars in enumerate(zip(*plt.gca().containers)):\n",
    "    for bar, score in zip(bars, test_scores_lists[i]):\n",
    "        plt.text(bar.get_x() + bar.get_width() / 2, bar.get_height() + 0.01, f'{score:.4f}', ha='center', va='bottom')\n",
    "\n",
    "plt.show()"
   ]
  },
  {
   "cell_type": "markdown",
   "metadata": {},
   "source": [
    "## Visualize prediciton ( Model 1-3 )"
   ]
  },
  {
   "cell_type": "code",
   "execution_count": null,
   "metadata": {},
   "outputs": [],
   "source": [
    "from sklearn.metrics import precision_score, recall_score, f1_score, confusion_matrix\n",
    "\n",
    "def evaluate_model(model, X_test, y_tests, output_labels):\n",
    "    results = {}\n",
    "    \n",
    "    # Generate predictions for each output\n",
    "    predictions = model.predict(X_test)\n",
    "    \n",
    "    for i, y_test in enumerate(y_tests):\n",
    "        y_pred = predictions[i]\n",
    "        output_label = output_labels[i]\n",
    "        \n",
    "        # Calculate precision, recall, and F1-score\n",
    "        precision = precision_score(y_test, (y_pred > 0.5))\n",
    "        recall = recall_score(y_test, (y_pred > 0.5))\n",
    "        f1 = f1_score(y_test, (y_pred > 0.5))\n",
    "        \n",
    "        # Compute confusion matrix\n",
    "        conf_matrix = confusion_matrix(y_test, (y_pred > 0.5))\n",
    "        \n",
    "        # Store results\n",
    "        results[output_label] = {'Precision': precision, 'Recall': recall, 'F1-score': f1, 'Confusion Matrix': conf_matrix}\n",
    "    \n",
    "    return results\n",
    "\n",
    "# Assuming you have three models: mlp_model1, mlp_model2, mlp_model3\n",
    "# Assuming X_test, y_tests, and output_labels are lists containing test data and labels for each model\n",
    "\n",
    "models = [mlp_model1, mlp_model2, mlp_model3]\n",
    "results = []\n",
    "\n",
    "for model in models:\n",
    "    results.append(evaluate_model(model, X_test, [y1_test, y2_test, y3_test, y4_test], ['Output 1', 'Output 2', 'Output 3', 'Output 4']))\n",
    "\n",
    "# Print results for each model\n",
    "for i, model_results in enumerate(results):\n",
    "    print(f\"Model {i+1} Results:\")\n",
    "    for output_label, metrics in model_results.items():\n",
    "        print(f\"\\n{output_label}:\")\n",
    "        for metric, value in metrics.items():\n",
    "            print(f\"{metric}: {value}\")\n"
   ]
  },
  {
   "cell_type": "code",
   "execution_count": null,
   "metadata": {},
   "outputs": [],
   "source": [
    "import matplotlib.pyplot as plt\n",
    "import seaborn as sns\n",
    "\n",
    "# Function to plot confusion matrices for each output\n",
    "def plot_confusion_matrices(conf_matrices, titles):\n",
    "    num_matrices = len(conf_matrices)\n",
    "    fig, axes = plt.subplots(1, num_matrices, figsize=(5*num_matrices, 5))\n",
    "    if num_matrices == 1:\n",
    "        axes = [axes]  # Ensure axes is always a list\n",
    "        \n",
    "    for i, (conf_matrix, title) in enumerate(zip(conf_matrices, titles)):\n",
    "        sns.heatmap(conf_matrix, annot=True, fmt=\"d\", cmap=\"Blues\", cbar=False,\n",
    "                    xticklabels=[\"I\", \"E\"], yticklabels=[\"I\", \"E\"], ax=axes[i])\n",
    "        axes[i].set_title(title)\n",
    "        axes[i].set_xlabel('Predicted')\n",
    "        axes[i].set_ylabel('True')\n",
    "    \n",
    "    plt.tight_layout()\n",
    "    plt.show()\n",
    "\n",
    "# Plot confusion matrices for each output for three models\n",
    "plot_confusion_matrices([conf_matrix_output1_model1, conf_matrix_output1_model2, conf_matrix_output1_model3],\n",
    "                        [\"Model 1 - Confusion Matrix for I/E Classification\",\n",
    "                         \"Model 2 - Confusion Matrix for I/E Classification\",\n",
    "                         \"Model 3 - Confusion Matrix for I/E Classification\"])\n",
    "\n",
    "plot_confusion_matrices([conf_matrix_output2_model1, conf_matrix_output2_model2, conf_matrix_output2_model3],\n",
    "                        [\"Model 1 - Confusion Matrix for N/S Classification\",\n",
    "                         \"Model 2 - Confusion Matrix for N/S Classification\",\n",
    "                         \"Model 3 - Confusion Matrix for N/S Classification\"])\n",
    "\n",
    "plot_confusion_matrices([conf_matrix_output3_model1, conf_matrix_output3_model2, conf_matrix_output3_model3],\n",
    "                        [\"Model 1 - Confusion Matrix for F/T Classification\",\n",
    "                         \"Model 2 - Confusion Matrix for F/T Classification\",\n",
    "                         \"Model 3 - Confusion Matrix for F/T Classification\"])\n",
    "\n",
    "plot_confusion_matrices([conf_matrix_output4_model1, conf_matrix_output4_model2, conf_matrix_output4_model3],\n",
    "                        [\"Model 1 - Confusion Matrix for P/J Classification\",\n",
    "                         \"Model 2 - Confusion Matrix for P/J Classification\",\n",
    "                         \"Model 3 - Confusion Matrix for P/J Classification\"])\n"
   ]
  },
  {
   "cell_type": "code",
   "execution_count": null,
   "metadata": {},
   "outputs": [],
   "source": [
    "import pandas as pd\n",
    "\n",
    "# Define the data for the table for each model\n",
    "data_model1 = {\n",
    "    'Model': ['Model 1', 'Model 1', 'Model 1', 'Model 1'],\n",
    "    'Output': ['Accuracy', 'F1-score', 'Precision', 'Recall'],\n",
    "    'I/E': [accuracy_output1_model1, f1_score_output1_model1, precision_output1_model1, recall_output1_model1],\n",
    "    'N/S': [accuracy_output2_model1, f1_score_output2_model1, precision_output2_model1, recall_output2_model1],\n",
    "    'F/T': [accuracy_output3_model1, f1_score_output3_model1, precision_output3_model1, recall_output3_model1],\n",
    "    'P/J': [accuracy_output4_model1, f1_score_output4_model1, precision_output4_model1, recall_output4_model1]\n",
    "}\n",
    "\n",
    "data_model2 = {\n",
    "    'Model': ['Model 2', 'Model 2', 'Model 2', 'Model 2'],\n",
    "    'Output': ['Accuracy', 'F1-score', 'Precision', 'Recall'],\n",
    "    'I/E': [accuracy_output1_model2, f1_score_output1_model2, precision_output1_model2, recall_output1_model2],\n",
    "    'N/S': [accuracy_output2_model2, f1_score_output2_model2, precision_output2_model2, recall_output2_model2],\n",
    "    'F/T': [accuracy_output3_model2, f1_score_output3_model2, precision_output3_model2, recall_output3_model2],\n",
    "    'P/J': [accuracy_output4_model2, f1_score_output4_model2, precision_output4_model2, recall_output4_model2]\n",
    "}\n",
    "\n",
    "data_model3 = {\n",
    "    'Model': ['Model 3', 'Model 3', 'Model 3', 'Model 3'],\n",
    "    'Output': ['Accuracy', 'F1-score', 'Precision', 'Recall'],\n",
    "    'I/E': [accuracy_output1_model3, f1_score_output1_model3, precision_output1_model3, recall_output1_model3],\n",
    "    'N/S': [accuracy_output2_model3, f1_score_output2_model3, precision_output2_model3, recall_output2_model3],\n",
    "    'F/T': [accuracy_output3_model3, f1_score_output3_model3, precision_output3_model3, recall_output3_model3],\n",
    "    'P/J': [accuracy_output4_model3, f1_score_output4_model3, precision_output4_model3, recall_output4_model3]\n",
    "}\n",
    "\n",
    "# Create DataFrames\n",
    "df_model1 = pd.DataFrame(data_model1)\n",
    "df_model2 = pd.DataFrame(data_model2)\n",
    "df_model3 = pd.DataFrame(data_model3)\n",
    "\n",
    "# Concatenate DataFrames vertically\n",
    "table_df = pd.concat([df_model1, df_model2, df_model3], ignore_index=True)\n",
    "\n",
    "# Apply styling\n",
    "styled_table_df = table_df.style.set_table_styles([\n",
    "    {'selector': 'th', 'props': [('background-color', '#f2f2f2'), ('color', 'black'), ('font-weight', 'bold'), ('text-align', 'center')]},\n",
    "    {'selector': 'td', 'props': [('text-align', 'center')]}\n",
    "]).set_properties(**{'text-align': 'center'})\n",
    "\n",
    "# Display the styled table\n",
    "styled_table_df\n"
   ]
  }
 ],
 "metadata": {
  "kernelspec": {
   "display_name": "Python 3 (ipykernel)",
   "language": "python",
   "name": "python3"
  },
  "language_info": {
   "codemirror_mode": {
    "name": "ipython",
    "version": 3
   },
   "file_extension": ".py",
   "mimetype": "text/x-python",
   "name": "python",
   "nbconvert_exporter": "python",
   "pygments_lexer": "ipython3",
   "version": "3.11.4"
  },
  "vscode": {
   "interpreter": {
    "hash": "95a8b902d17fe767a9a89dc40947dbbffb75fb8c37a8f89f9453213a57fd418c"
   }
  }
 },
 "nbformat": 4,
 "nbformat_minor": 4
}
